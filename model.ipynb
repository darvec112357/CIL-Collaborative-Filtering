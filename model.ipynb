{
 "cells": [
  {
   "cell_type": "code",
   "execution_count": 77,
   "metadata": {},
   "outputs": [],
   "source": [
    "import pandas as pd\n",
    "import numpy as np\n",
    "from scipy.sparse import csr_matrix\n",
    "import torch\n",
    "from utils import *"
   ]
  },
  {
   "cell_type": "code",
   "execution_count": 78,
   "metadata": {},
   "outputs": [],
   "source": [
    "def _read_df_in_format(root):\n",
    "    def reformat_id(id):\n",
    "    # split and reformat the df\n",
    "        row, col = id.split('_')\n",
    "        return int(row[1:]), int(col[1:])\n",
    "    df = pd.read_csv(root)\n",
    "    df['row'], df['col'] = zip(*df['Id'].map(reformat_id))\n",
    "    df.drop('Id', axis=1, inplace=True)\n",
    "    return df\n",
    "\n",
    "def store_dense_matrix_to_submission(sub_sample_path, store_path, data_matrix,clip_min=1, clip_max=5):\n",
    "    # print(\"Loading requests specified by submission samples...\")\n",
    "    df = _read_df_in_format(sub_sample_path)\n",
    "    # print(f\"Storing {nrows} records for submission as requested...\")\n",
    "    row_id = df['row'].to_numpy() - 1\n",
    "    col_id = df['col'].to_numpy() - 1\n",
    "    data_matrix = np.clip(data_matrix, clip_min, clip_max)\n",
    "    df['Prediction'] = data_matrix[row_id, col_id]\n",
    "\n",
    "    def reformat_id(record):\n",
    "        return f\"r{record['row']:.0f}_c{record['col']:.0f}\"\n",
    "    df['Id'] = df.apply(reformat_id, axis=1)\n",
    "    df = df.drop(['row', 'col'], axis=1)\n",
    "    df.to_csv(store_path, columns=['Id', 'Prediction'], index=False)\n",
    "\n",
    "def _convert_df_to_matrix(df):\n",
    "    n_row = df['row'].max()\n",
    "    n_col = df['col'].max()\n",
    "    # print(n_row)\n",
    "    # print(n_col)\n",
    "    row_id = df['row'].to_numpy() - 1 # id starts from 1\n",
    "    col_id = df['col'].to_numpy() - 1\n",
    "\n",
    "    data_matrix = np.zeros((n_row, n_col))\n",
    "    data_matrix[:] = np.nan\n",
    "    # Check! Data type could cause rounding errors!\n",
    "    data_matrix[row_id, col_id] = df['Prediction']\n",
    "    is_provided = data_matrix!=0\n",
    "    return data_matrix, is_provided"
   ]
  },
  {
   "cell_type": "code",
   "execution_count": 89,
   "metadata": {},
   "outputs": [],
   "source": [
    "class Baseline:\n",
    "    def __init__(self, rank_svd = 9, rank_als = 3, num_iterations = 20, lambda_als = 0.1):\n",
    "        self.rank_svd = rank_svd\n",
    "        self.rank_als = rank_als\n",
    "        self.num_iterations = num_iterations\n",
    "        self.lambda_als = lambda_als\n",
    "        self.num_movies = 1000\n",
    "\n",
    "    def SVD(self, A, num_movies, k=9):\n",
    "        U, s, Vt = np.linalg.svd(A, full_matrices=False)\n",
    "\n",
    "\t\t# using the top k eigenvalues\n",
    "        S = np.zeros((num_movies, num_movies))\n",
    "        S[:k, :k] = np.diag(s[:k])\n",
    "\n",
    "\t\t# reconstruct matrix\n",
    "        return U, S, Vt   \n",
    "    \n",
    "    def IterSVD(self, A, mask_A, shrinkage=38, n_itr=15):\n",
    "        X = A.copy()\n",
    "        for i in range(n_itr):\n",
    "            U, s, Vt = np.linalg.svd(X, full_matrices=False)\n",
    "            s_ = (s - shrinkage).clip(min=0)\n",
    "            X = U.dot(np.diag(s_)).dot(Vt)\n",
    "            X[mask_A] = A[mask_A]\n",
    "            print(\"%sth iteration is complete.\" % i)\n",
    "\n",
    "        return X\n",
    "\n",
    "    def ALS(self, A, mask_A, k=3, n_itr=20, lambda_=0.1):\n",
    "        print(\"Initializing ALS\")\n",
    "        n, m = A.shape\n",
    "        U, S, Vt = self.SVD(A, self.num_movies, self.rank_svd)\n",
    "        U = np.copy(U[:,:k])\n",
    "        V = np.copy(Vt[:k,:])\n",
    "\n",
    "        print(\"Starting Iterations\")\n",
    "\n",
    "        for iter in range(n_itr):\n",
    "            for i, Ri in enumerate(mask_A):\n",
    "                temp1 = V@(Ri[:,None] * V.T) + lambda_ * np.eye(k)\n",
    "                temp2 = np.dot(V, np.dot(np.diag(Ri), A[i].T))\n",
    "                U[i] = np.linalg.solve(temp1, temp2).T\n",
    "            print(\"Error after solving for U matrix:\", np.sum((mask_A * (A - np.dot(U, V))) ** 2) / np.sum(mask_A))\n",
    "\n",
    "            for j, Rj in enumerate(mask_A.T):\n",
    "                temp1 = U.T@(Rj[:,None] * U) + lambda_ * np.eye(k)\n",
    "                temp2 = U.T@(Rj * A[:, j])\n",
    "                V[:,j] = np.linalg.solve(temp1,temp2)\n",
    "            print(\"Error after solving for V matrix:\", np.sum((mask_A * (A - np.dot(U, V))) ** 2) / np.sum(mask_A))\n",
    "            print(\"%sth iteration is complete.\" % iter)\n",
    "\n",
    "        return U, V\n",
    "\n",
    "    def predict(self, U, V, col_mean, col_std):\n",
    "        return de_norm(U.dot(V), col_mean, col_std)\n"
   ]
  },
  {
   "cell_type": "code",
   "execution_count": 80,
   "metadata": {},
   "outputs": [],
   "source": [
    "# df = _read_df_in_format('data_train.csv')\n",
    "# df = _convert_df_to_matrix(df)[0]\n",
    "# df = pd.DataFrame(df)\n",
    "# df.to_csv('data_train_matrix.csv', index = False)\n",
    "\n",
    "df = pd.read_csv('data_train_matrix.csv')"
   ]
  },
  {
   "cell_type": "code",
   "execution_count": 81,
   "metadata": {},
   "outputs": [],
   "source": [
    "A, mean, std = stand_norm(df)\n",
    "A = A.to_numpy()\n",
    "A[np.isnan(A)] = 0\n",
    "mask_A = A != 0\n",
    "# mask_A"
   ]
  },
  {
   "cell_type": "code",
   "execution_count": 91,
   "metadata": {},
   "outputs": [],
   "source": [
    "bsl = Baseline()\n"
   ]
  },
  {
   "cell_type": "code",
   "execution_count": null,
   "metadata": {},
   "outputs": [],
   "source": [
    "X = bsl.IterSVD(A, mask_A, shrinkage=38, n_itr=15)"
   ]
  },
  {
   "cell_type": "code",
   "execution_count": 93,
   "metadata": {},
   "outputs": [
    {
     "name": "stdout",
     "output_type": "stream",
     "text": [
      "Initializing ALS\n",
      "Starting Iterations\n",
      "Error after solving for U matrix: 0.8888921198541139\n",
      "Error after solving for V matrix: 0.8742462777284741\n",
      "0th iteration is complete.\n",
      "Error after solving for U matrix: 0.8743980928917027\n",
      "Error after solving for V matrix: 0.8695334240925179\n",
      "1th iteration is complete.\n",
      "Error after solving for U matrix: 0.8705748990903635\n",
      "Error after solving for V matrix: 0.8679736743098979\n",
      "2th iteration is complete.\n",
      "Error after solving for U matrix: 0.868867500645511\n",
      "Error after solving for V matrix: 0.8672281836995291\n",
      "3th iteration is complete.\n",
      "Error after solving for U matrix: 0.8679377591174855\n",
      "Error after solving for V matrix: 0.8668076901508284\n",
      "4th iteration is complete.\n",
      "Error after solving for U matrix: 0.8673710812670917\n",
      "Error after solving for V matrix: 0.866545105959936\n",
      "5th iteration is complete.\n",
      "Error after solving for U matrix: 0.8669988332069211\n",
      "Error after solving for V matrix: 0.8663692750273488\n",
      "6th iteration is complete.\n",
      "Error after solving for U matrix: 0.8667406962421722\n",
      "Error after solving for V matrix: 0.8662453531538401\n",
      "7th iteration is complete.\n",
      "Error after solving for U matrix: 0.8665541375088522\n",
      "Error after solving for V matrix: 0.8661545180500884\n",
      "8th iteration is complete.\n",
      "Error after solving for U matrix: 0.8664148245499839\n",
      "Error after solving for V matrix: 0.8660858288274088\n",
      "9th iteration is complete.\n",
      "Error after solving for U matrix: 0.8663079857341266\n",
      "Error after solving for V matrix: 0.8660325522537443\n",
      "10th iteration is complete.\n",
      "Error after solving for U matrix: 0.8662242189047431\n",
      "Error after solving for V matrix: 0.8659903502412747\n",
      "11th iteration is complete.\n",
      "Error after solving for U matrix: 0.8661573029082034\n",
      "Error after solving for V matrix: 0.8659563205328678\n",
      "12th iteration is complete.\n",
      "Error after solving for U matrix: 0.8661029855957327\n",
      "Error after solving for V matrix: 0.8659284592027221\n",
      "13th iteration is complete.\n",
      "Error after solving for U matrix: 0.866058279282397\n",
      "Error after solving for V matrix: 0.8659053449357565\n",
      "14th iteration is complete.\n",
      "Error after solving for U matrix: 0.8660210341764379\n",
      "Error after solving for V matrix: 0.8658859460388134\n",
      "15th iteration is complete.\n",
      "Error after solving for U matrix: 0.8659896709686571\n",
      "Error after solving for V matrix: 0.865869498379979\n",
      "16th iteration is complete.\n",
      "Error after solving for U matrix: 0.8659630080730852\n",
      "Error after solving for V matrix: 0.8658554258720645\n",
      "17th iteration is complete.\n",
      "Error after solving for U matrix: 0.8659401470360801\n",
      "Error after solving for V matrix: 0.8658432873132869\n",
      "18th iteration is complete.\n",
      "Error after solving for U matrix: 0.8659203947378272\n",
      "Error after solving for V matrix: 0.8658327400267555\n",
      "19th iteration is complete.\n"
     ]
    }
   ],
   "source": [
    "U, V = bsl.ALS(X, mask_A, k=3, n_itr=20, lambda_=0.1)"
   ]
  },
  {
   "cell_type": "code",
   "execution_count": 94,
   "metadata": {},
   "outputs": [],
   "source": [
    "predictions = bsl.predict(U, V, mean, std)\n",
    "predictions = np.round(predictions)\n",
    "store_dense_matrix_to_submission('sampleSubmission.csv', 'submission.csv', predictions, clip_min=1, clip_max=5)"
   ]
  },
  {
   "cell_type": "code",
   "execution_count": 32,
   "metadata": {},
   "outputs": [],
   "source": [
    "A = np.random.random((1000,10000,3))\n"
   ]
  }
 ],
 "metadata": {
  "kernelspec": {
   "display_name": "aml",
   "language": "python",
   "name": "python3"
  },
  "language_info": {
   "codemirror_mode": {
    "name": "ipython",
    "version": 3
   },
   "file_extension": ".py",
   "mimetype": "text/x-python",
   "name": "python",
   "nbconvert_exporter": "python",
   "pygments_lexer": "ipython3",
   "version": "3.9.16"
  },
  "orig_nbformat": 4
 },
 "nbformat": 4,
 "nbformat_minor": 2
}
