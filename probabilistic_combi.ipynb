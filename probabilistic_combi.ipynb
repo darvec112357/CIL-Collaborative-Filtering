{
 "cells": [
  {
   "cell_type": "code",
   "execution_count": 1,
   "metadata": {},
   "outputs": [],
   "source": [
    "import pandas as pd\n",
    "import numpy as np\n",
    "from time import time\n",
    "\n",
    "from sklearn.preprocessing import OneHotEncoder\n",
    "from scipy.stats import entropy\n",
    "\n",
    "from surprise import Dataset, Reader\n",
    "from surprise import KNNBaseline\n",
    "from surprise import NMF as NMF_surprise\n",
    "from surprise import accuracy as acc \n",
    "\n",
    "from myfm import MyFMRegressor, MyFMOrderedProbit\n",
    "\n",
    "from train_test import get_train_test, convert_df_to_matrix, _read_df_in_format, store_dense_matrix_to_submission, generate_anti_train\n",
    "from methods import UserAverage, ItemAverage, UserItemAverage, Baseline, ALS, NMF\n",
    "from utils import stand_norm, de_norm"
   ]
  },
  {
   "cell_type": "code",
   "execution_count": 2,
   "metadata": {},
   "outputs": [],
   "source": [
    "train_df, test_df = get_train_test('data/data_train.csv', split_num=0)\n",
    "train_matrix = convert_df_to_matrix(train_df)"
   ]
  },
  {
   "cell_type": "code",
   "execution_count": 3,
   "metadata": {},
   "outputs": [],
   "source": [
    "full_train_df = _read_df_in_format('data/data_train.csv')"
   ]
  },
  {
   "cell_type": "code",
   "execution_count": 18,
   "metadata": {},
   "outputs": [],
   "source": [
    "reader = Reader(rating_scale=(1, 5))\n",
    "train_data = Dataset.load_from_df(train_df, reader)\n",
    "test_data = Dataset.load_from_df(test_df, reader)\n",
    "\n",
    "trainset = train_data.build_full_trainset()\n",
    "testset = test_data.build_full_trainset().build_testset()\n",
    "anti_trainset = trainset.build_anti_testset()"
   ]
  },
  {
   "attachments": {},
   "cell_type": "markdown",
   "metadata": {},
   "source": [
    "# Baseline (Averages)"
   ]
  },
  {
   "cell_type": "code",
   "execution_count": 10,
   "metadata": {},
   "outputs": [
    {
     "name": "stdout",
     "output_type": "stream",
     "text": [
      "Method: UserAverage, RMSE: 1.0949, MAE: 0.9009, Time: 1.90\n",
      "Method: ItemAverage, RMSE: 1.0309, MAE: 0.8398, Time: 1.44\n",
      "Method: UserItemAverage, RMSE: 1.0314, MAE: 0.8482, Time: 2.05\n"
     ]
    }
   ],
   "source": [
    "methods = [UserAverage, ItemAverage, UserItemAverage]\n",
    "for method in methods:\n",
    "    start_time = time()\n",
    "    algo = method()\n",
    "    algo.fit(trainset)\n",
    "    predictions = algo.test(testset)\n",
    "    print(f\"Method: {method.__name__}, RMSE: {acc.rmse(predictions, False):.4f}, MAE: {acc.mae(predictions, False):.4f}, Time: {time() - start_time:.2f}\", end = '\\n')"
   ]
  },
  {
   "attachments": {},
   "cell_type": "markdown",
   "metadata": {},
   "source": [
    "# SVD Baselines"
   ]
  },
  {
   "cell_type": "code",
   "execution_count": 6,
   "metadata": {},
   "outputs": [],
   "source": [
    "train_matrix_na = train_matrix.copy()\n",
    "train_matrix_na[train_matrix_na == 0] = np.nan\n",
    "A, mean, std = stand_norm(train_matrix_na)"
   ]
  },
  {
   "cell_type": "code",
   "execution_count": 8,
   "metadata": {},
   "outputs": [],
   "source": [
    "A = A.to_numpy()\n",
    "A[np.isnan(A)] = 0\n",
    "mask_A = A != 0"
   ]
  },
  {
   "cell_type": "code",
   "execution_count": 5,
   "metadata": {},
   "outputs": [
    {
     "name": "stdout",
     "output_type": "stream",
     "text": [
      "Time: 28.26ion is complete.\n",
      "Initializing ALS\n",
      "Starting Iterations\n",
      "Iteration 1\t\tError after solving for U matrix: 0.8884654604830124\t\tError after solving for V matrix: 0.8697659970039079\n",
      "Iteration 2\t\tError after solving for U matrix: 0.8693405831486603\t\tError after solving for V matrix: 0.8635757724906006\n",
      "Iteration 3\t\tError after solving for U matrix: 0.8646071883257769\t\tError after solving for V matrix: 0.861629070361034\n",
      "Iteration 4\t\tError after solving for U matrix: 0.8625618677910059\t\tError after solving for V matrix: 0.8607208703930147\n",
      "Iteration 5\t\tError after solving for U matrix: 0.861471002917869\t\tError after solving for V matrix: 0.8602167452177215\n",
      "Iteration 6\t\tError after solving for U matrix: 0.8608149073656389\t\tError after solving for V matrix: 0.8599052386884303\n",
      "Iteration 7\t\tError after solving for U matrix: 0.8603876471152292\t\tError after solving for V matrix: 0.8596980686201238\n",
      "Iteration 8\t\tError after solving for U matrix: 0.8600930628674248\t\tError after solving for V matrix: 0.8595526900113187\n",
      "Iteration 9\t\tError after solving for U matrix: 0.8598809838964211\t\tError after solving for V matrix: 0.8594464068305289\n",
      "Iteration 10\t\tError after solving for U matrix: 0.8597230243320085\t\tError after solving for V matrix: 0.8593661527999131\n",
      "Time: 346.08\n"
     ]
    }
   ],
   "source": [
    "bsl = Baseline()\n",
    "start = time()\n",
    "X = bsl.IterSVD(A, mask_A, shrinkage=38, n_itr=15)\n",
    "end = time(); print(f\"Time: {end - start:.2f}\"); start = time()\n",
    "U, V = bsl.ALS(X, mask_A, k=3, n_itr=10, lambda_=0.1)\n",
    "end = time(); print(f\"Time: {end - start:.2f}\")"
   ]
  },
  {
   "cell_type": "code",
   "execution_count": 6,
   "metadata": {},
   "outputs": [],
   "source": [
    "predictions = bsl.predict(U, V, mean, std)"
   ]
  },
  {
   "cell_type": "code",
   "execution_count": 7,
   "metadata": {},
   "outputs": [],
   "source": [
    "row_ids = test_df.row.to_numpy() - 1\n",
    "col_ids = test_df.col.to_numpy() - 1\n",
    "test_preds = predictions[row_ids, col_ids]"
   ]
  },
  {
   "cell_type": "code",
   "execution_count": 8,
   "metadata": {},
   "outputs": [
    {
     "name": "stdout",
     "output_type": "stream",
     "text": [
      "Method: SVD+ALS, RMSE: 0.9916, MAE: 0.7889\n"
     ]
    }
   ],
   "source": [
    "rmse_svd = ((test_df.Prediction - test_preds) ** 2).mean() ** 0.5\n",
    "mae_svd = np.abs(test_df.Prediction - test_preds).mean()\n",
    "print(f\"Method: SVD+ALS, RMSE: {rmse_svd:.4f}, MAE: {mae_svd:.4f}\")"
   ]
  },
  {
   "cell_type": "markdown",
   "metadata": {},
   "source": [
    "# ALS Baseline (re-implemented)"
   ]
  },
  {
   "cell_type": "code",
   "execution_count": 7,
   "metadata": {},
   "outputs": [],
   "source": [
    "train_matrix_na = train_matrix.copy()\n",
    "train_matrix_na[train_matrix_na == 0] = np.nan\n",
    "A, mean, std = stand_norm(train_matrix_na)\n",
    "\n",
    "A = A.to_numpy()\n",
    "A[np.isnan(A)] = 0\n",
    "mask_A = A != 0"
   ]
  },
  {
   "cell_type": "code",
   "execution_count": 13,
   "metadata": {},
   "outputs": [
    {
     "name": "stdout",
     "output_type": "stream",
     "text": [
      "Initializing IterSVD\n",
      "Iteration 1\t\tompleteError after solving for U matrix: 0.8894921318499086\t\tError after solving for V matrix: 0.8702620475348487\n",
      "Iteration 2\t\tError after solving for U matrix: 0.8693804991939101\t\tError after solving for V matrix: 0.8636362538339554\n",
      "Iteration 3\t\tError after solving for U matrix: 0.8645712585885774\t\tError after solving for V matrix: 0.8616291335578479\n",
      "Iteration 4\t\tError after solving for U matrix: 0.8625279655549547\t\tError after solving for V matrix: 0.8607116929738339\n",
      "Iteration 5\t\tError after solving for U matrix: 0.8614459410968969\t\tError after solving for V matrix: 0.8602077155009261\n",
      "Iteration 6\t\tError after solving for U matrix: 0.860796965542058\t\tError after solving for V matrix: 0.8598979007220399\n",
      "Iteration 7\t\tError after solving for U matrix: 0.8603746782465752\t\tError after solving for V matrix: 0.8596923540112139\n",
      "Iteration 8\t\tError after solving for U matrix: 0.8600834981419245\t\tError after solving for V matrix: 0.8595482601157713\n",
      "Iteration 9\t\tError after solving for U matrix: 0.8598737740790325\t\tError after solving for V matrix: 0.8594429457885474\n",
      "Iteration 10\t\tError after solving for U matrix: 0.8597174755426705\t\tError after solving for V matrix: 0.8593634160044158\n",
      "Time: 494.46\n"
     ]
    }
   ],
   "source": [
    "als = ALS()\n",
    "start = time()\n",
    "U, V = als.ALS(A, mask_A, k=3, shrinkage=30, lambd=0.1, n_iter_svd=3, n_iter_als=10)\n",
    "end = time(); print(f\"Time: {end - start:.2f}\")"
   ]
  },
  {
   "cell_type": "code",
   "execution_count": 14,
   "metadata": {},
   "outputs": [],
   "source": [
    "predictions = als.predict(U, V, mean, std)"
   ]
  },
  {
   "cell_type": "code",
   "execution_count": 15,
   "metadata": {},
   "outputs": [],
   "source": [
    "row_ids = test_df.row.to_numpy() - 1\n",
    "col_ids = test_df.col.to_numpy() - 1\n",
    "test_preds = predictions[row_ids, col_ids]"
   ]
  },
  {
   "cell_type": "code",
   "execution_count": 16,
   "metadata": {},
   "outputs": [
    {
     "name": "stdout",
     "output_type": "stream",
     "text": [
      "Method: ALS (reimplemented), RMSE: 0.9916, MAE: 0.7889\n"
     ]
    }
   ],
   "source": [
    "rmse_svd = ((test_df.Prediction - test_preds) ** 2).mean() ** 0.5\n",
    "mae_svd = np.abs(test_df.Prediction - test_preds).mean()\n",
    "print(f\"Method: ALS (reimplemented), RMSE: {rmse_svd:.4f}, MAE: {mae_svd:.4f}\")"
   ]
  },
  {
   "cell_type": "code",
   "execution_count": 9,
   "metadata": {},
   "outputs": [
    {
     "name": "stdout",
     "output_type": "stream",
     "text": [
      "Initializing IterSVD\n",
      "IterSVD completelete\n",
      "Iteration 1\t\tError after solving for U matrix: 0.9057123491018897\t\tError after solving for V matrix: 0.8941759712521964\n",
      "Iteration 2\t\tError after solving for U matrix: 0.8926984729801446\t\tError after solving for V matrix: 0.8898051376602609\n",
      "Iteration 3\t\tError after solving for U matrix: 0.8901990927671046\t\tError after solving for V matrix: 0.8887463408709024\n",
      "Iteration 4\t\tError after solving for U matrix: 0.8892606240111841\t\tError after solving for V matrix: 0.8883192677748334\n",
      "Iteration 5\t\tError after solving for U matrix: 0.8887656488872301\t\tError after solving for V matrix: 0.8880893252522537\n",
      "Iteration 6\t\tError after solving for U matrix: 0.8884580228554634\t\tError after solving for V matrix: 0.8879449065115174\n",
      "Iteration 7\t\tError after solving for U matrix: 0.8882493560757952\t\tError after solving for V matrix: 0.8878459338140072\n",
      "Iteration 8\t\tError after solving for U matrix: 0.888099869414014\t\tError after solving for V matrix: 0.8877742334009106\n",
      "Iteration 9\t\tError after solving for U matrix: 0.8879885634445831\t\tError after solving for V matrix: 0.8877202171236107\n",
      "Iteration 10\t\tError after solving for U matrix: 0.887903202313639\t\tError after solving for V matrix: 0.887678298665954\n",
      "Time: 428.86\n"
     ]
    }
   ],
   "source": [
    "als = ALS()\n",
    "start = time()\n",
    "U, V = als.ALS(A, mask_A, k=2, shrinkage=50, lambd=0.05, n_iter_svd=3, n_iter_als=10)\n",
    "end = time(); print(f\"Time: {end - start:.2f}\")"
   ]
  },
  {
   "cell_type": "code",
   "execution_count": 10,
   "metadata": {},
   "outputs": [],
   "source": [
    "predictions = als.predict(U, V, mean, std)"
   ]
  },
  {
   "cell_type": "code",
   "execution_count": 11,
   "metadata": {},
   "outputs": [],
   "source": [
    "row_ids = test_df.row.to_numpy() - 1\n",
    "col_ids = test_df.col.to_numpy() - 1\n",
    "test_preds = predictions[row_ids, col_ids]"
   ]
  },
  {
   "cell_type": "code",
   "execution_count": 12,
   "metadata": {},
   "outputs": [
    {
     "name": "stdout",
     "output_type": "stream",
     "text": [
      "Method: ALS (reimplemented), RMSE: 0.9947, MAE: 0.7960\n"
     ]
    }
   ],
   "source": [
    "rmse_svd = ((test_df.Prediction - test_preds) ** 2).mean() ** 0.5\n",
    "mae_svd = np.abs(test_df.Prediction - test_preds).mean()\n",
    "print(f\"Method: ALS (reimplemented), RMSE: {rmse_svd:.4f}, MAE: {mae_svd:.4f}\")"
   ]
  },
  {
   "cell_type": "code",
   "execution_count": null,
   "metadata": {},
   "outputs": [],
   "source": []
  },
  {
   "cell_type": "code",
   "execution_count": null,
   "metadata": {},
   "outputs": [],
   "source": []
  },
  {
   "cell_type": "code",
   "execution_count": null,
   "metadata": {},
   "outputs": [],
   "source": []
  },
  {
   "cell_type": "code",
   "execution_count": null,
   "metadata": {},
   "outputs": [],
   "source": []
  },
  {
   "cell_type": "markdown",
   "metadata": {},
   "source": [
    "# NMF"
   ]
  },
  {
   "cell_type": "code",
   "execution_count": 13,
   "metadata": {},
   "outputs": [],
   "source": [
    "train_matrix_na = train_matrix.copy()\n",
    "train_matrix_na[train_matrix_na == 0] = np.nan\n",
    "A, mean, std = stand_norm(train_matrix_na)\n",
    "\n",
    "A = A.to_numpy()\n",
    "A[np.isnan(A)] = 0\n",
    "mask_A = A != 0"
   ]
  },
  {
   "cell_type": "code",
   "execution_count": 14,
   "metadata": {},
   "outputs": [
    {
     "name": "stdout",
     "output_type": "stream",
     "text": [
      "Initializing IterSVD\n",
      "IterSVD completelete\n",
      "Iteration 1\t\tError after solving for U matrix: 0.9463989765199576\t\tError after solving for V matrix: 0.9638080059331976\n",
      "Iteration 2\t\tError after solving for U matrix: 0.9528181272147411\t\tError after solving for V matrix: 0.9532033056400974\n",
      "Iteration 3\t\tError after solving for U matrix: 0.9492823001767832\t\tError after solving for V matrix: 0.951692585072145\n",
      "Iteration 4\t\tError after solving for U matrix: 0.9482031838525288\t\tError after solving for V matrix: 0.9513038367034055\n",
      "Iteration 5\t\tError after solving for U matrix: 0.9478165493734153\t\tError after solving for V matrix: 0.951113711286917\n",
      "Iteration 6\t\tError after solving for U matrix: 0.9476742395539006\t\tError after solving for V matrix: 0.9509003054828084\n",
      "Iteration 7\t\tError after solving for U matrix: 0.9476258045036836\t\tError after solving for V matrix: 0.950670791047068\n",
      "Iteration 8\t\tError after solving for U matrix: 0.947637659974294\t\tError after solving for V matrix: 0.9504743542956349\n",
      "Iteration 9\t\tError after solving for U matrix: 0.9476650446410133\t\tError after solving for V matrix: 0.950330656216891\n",
      "Iteration 10\t\tError after solving for U matrix: 0.9476967642698249\t\tError after solving for V matrix: 0.9502090992761819\n",
      "Time: 429.89\n"
     ]
    }
   ],
   "source": [
    "nmf = NMF()\n",
    "start = time()\n",
    "U, V = nmf.NMF(A, mask_A, k=3, shrinkage=30, lambd=0.1, n_iter_svd=3, n_iter_als=10)\n",
    "end = time(); print(f\"Time: {end - start:.2f}\")"
   ]
  },
  {
   "cell_type": "code",
   "execution_count": 15,
   "metadata": {},
   "outputs": [],
   "source": [
    "predictions = nmf.predict(U, V, mean, std)"
   ]
  },
  {
   "cell_type": "code",
   "execution_count": 16,
   "metadata": {},
   "outputs": [],
   "source": [
    "row_ids = test_df.row.to_numpy() - 1\n",
    "col_ids = test_df.col.to_numpy() - 1\n",
    "test_preds = predictions[row_ids, col_ids]"
   ]
  },
  {
   "cell_type": "code",
   "execution_count": 17,
   "metadata": {},
   "outputs": [
    {
     "name": "stdout",
     "output_type": "stream",
     "text": [
      "Method: NMF (implemented), RMSE: 1.0200, MAE: 0.8029\n"
     ]
    }
   ],
   "source": [
    "rmse_svd = ((test_df.Prediction - test_preds) ** 2).mean() ** 0.5\n",
    "mae_svd = np.abs(test_df.Prediction - test_preds).mean()\n",
    "print(f\"Method: NMF (implemented), RMSE: {rmse_svd:.4f}, MAE: {mae_svd:.4f}\")"
   ]
  },
  {
   "cell_type": "code",
   "execution_count": 55,
   "metadata": {},
   "outputs": [
    {
     "name": "stdout",
     "output_type": "stream",
     "text": [
      "Time: 14.97\n"
     ]
    }
   ],
   "source": [
    "start = time()\n",
    "algo = NMF_surprise(n_factors=10, n_epochs=50, biased=True, reg_pu=0.3, reg_qi=0.3, reg_bu=0.1, reg_bi=0.1, init_low=0, init_high=1, random_state=42)\n",
    "algo.fit(trainset)\n",
    "end = time(); print(f\"Time: {end - start:.2f}\")"
   ]
  },
  {
   "cell_type": "code",
   "execution_count": 56,
   "metadata": {},
   "outputs": [
    {
     "name": "stdout",
     "output_type": "stream",
     "text": [
      "NMF Surprise, RMSE: 1.0045, MAE: 0.8181, Time: 16.47\n",
      "\n"
     ]
    }
   ],
   "source": [
    "predictions = algo.test(testset)\n",
    "print(f\"NMF Surprise, RMSE: {acc.rmse(predictions, False):.4f}, MAE: {acc.mae(predictions, False):.4f}, Time: {time() - start:.2f}\", end = '\\n\\n')"
   ]
  },
  {
   "attachments": {},
   "cell_type": "markdown",
   "metadata": {},
   "source": [
    "# KNN"
   ]
  },
  {
   "cell_type": "code",
   "execution_count": 19,
   "metadata": {},
   "outputs": [
    {
     "name": "stdout",
     "output_type": "stream",
     "text": [
      "Estimating biases using als...\n",
      "Computing the pearson_baseline similarity matrix...\n",
      "Done computing similarity matrix.\n",
      "Method: KNNBaseline, RMSE: 0.9899, MAE: 0.7912, Time: 43.18\n"
     ]
    }
   ],
   "source": [
    "start = time()\n",
    "knn = KNNBaseline(k=100, sim_options={'name': 'pearson_baseline', 'user_based': False})\n",
    "knn.fit(trainset)\n",
    "predictions = knn.test(testset)\n",
    "print(f\"Method: {knn.__class__.__name__}, RMSE: {acc.rmse(predictions, False):.4f}, MAE: {acc.mae(predictions, False):.4f}, Time: {time() - start:.2f}\")"
   ]
  },
  {
   "cell_type": "code",
   "execution_count": 36,
   "metadata": {},
   "outputs": [
    {
     "name": "stdout",
     "output_type": "stream",
     "text": [
      "Estimating biases using als...\n",
      "Computing the pearson_baseline similarity matrix...\n",
      "Done computing similarity matrix.\n",
      "Method: KNNBaseline, RMSE: 0.9912, MAE: 0.7900, Time: 31.70\n"
     ]
    }
   ],
   "source": [
    "start = time()\n",
    "knn = KNNBaseline(k=30, sim_options={'name': 'pearson_baseline', 'user_based': False, 'shrinkage': 200})\n",
    "knn.fit(trainset)\n",
    "predictions = knn.test(testset)\n",
    "print(f\"Method: {knn.__class__.__name__}, RMSE: {acc.rmse(predictions, False):.4f}, MAE: {acc.mae(predictions, False):.4f}, Time: {time() - start:.2f}\")"
   ]
  },
  {
   "cell_type": "code",
   "execution_count": 37,
   "metadata": {},
   "outputs": [],
   "source": [
    "anti_preds = knn.test(anti_trainset)"
   ]
  },
  {
   "cell_type": "code",
   "execution_count": 79,
   "metadata": {},
   "outputs": [],
   "source": [
    "anti_pred_df = pd.DataFrame(map(lambda x: (x.uid, x.iid, x.est, x.details['actual_k']), anti_preds), columns=['row', 'col', 'Prediction', 'cluster'])"
   ]
  },
  {
   "cell_type": "code",
   "execution_count": 83,
   "metadata": {},
   "outputs": [
    {
     "data": {
      "text/html": [
       "<div>\n",
       "<style scoped>\n",
       "    .dataframe tbody tr th:only-of-type {\n",
       "        vertical-align: middle;\n",
       "    }\n",
       "\n",
       "    .dataframe tbody tr th {\n",
       "        vertical-align: top;\n",
       "    }\n",
       "\n",
       "    .dataframe thead tr th {\n",
       "        text-align: left;\n",
       "    }\n",
       "\n",
       "    .dataframe thead tr:last-of-type th {\n",
       "        text-align: right;\n",
       "    }\n",
       "</style>\n",
       "<table border=\"1\" class=\"dataframe\">\n",
       "  <thead>\n",
       "    <tr>\n",
       "      <th></th>\n",
       "      <th colspan=\"3\" halign=\"left\">Prediction</th>\n",
       "    </tr>\n",
       "    <tr>\n",
       "      <th></th>\n",
       "      <th>mean</th>\n",
       "      <th>std</th>\n",
       "      <th>count</th>\n",
       "    </tr>\n",
       "    <tr>\n",
       "      <th>cluster</th>\n",
       "      <th></th>\n",
       "      <th></th>\n",
       "      <th></th>\n",
       "    </tr>\n",
       "  </thead>\n",
       "  <tbody>\n",
       "    <tr>\n",
       "      <th>0</th>\n",
       "      <td>3.515818</td>\n",
       "      <td>0.454107</td>\n",
       "      <td>1098</td>\n",
       "    </tr>\n",
       "    <tr>\n",
       "      <th>1</th>\n",
       "      <td>3.361470</td>\n",
       "      <td>1.026730</td>\n",
       "      <td>5013</td>\n",
       "    </tr>\n",
       "    <tr>\n",
       "      <th>2</th>\n",
       "      <td>3.330478</td>\n",
       "      <td>0.909333</td>\n",
       "      <td>11231</td>\n",
       "    </tr>\n",
       "    <tr>\n",
       "      <th>3</th>\n",
       "      <td>3.311658</td>\n",
       "      <td>0.858807</td>\n",
       "      <td>19659</td>\n",
       "    </tr>\n",
       "    <tr>\n",
       "      <th>4</th>\n",
       "      <td>3.319098</td>\n",
       "      <td>0.796076</td>\n",
       "      <td>30236</td>\n",
       "    </tr>\n",
       "    <tr>\n",
       "      <th>5</th>\n",
       "      <td>3.331213</td>\n",
       "      <td>0.747330</td>\n",
       "      <td>42179</td>\n",
       "    </tr>\n",
       "    <tr>\n",
       "      <th>6</th>\n",
       "      <td>3.328514</td>\n",
       "      <td>0.709451</td>\n",
       "      <td>54368</td>\n",
       "    </tr>\n",
       "    <tr>\n",
       "      <th>7</th>\n",
       "      <td>3.336120</td>\n",
       "      <td>0.677758</td>\n",
       "      <td>66256</td>\n",
       "    </tr>\n",
       "    <tr>\n",
       "      <th>8</th>\n",
       "      <td>3.335003</td>\n",
       "      <td>0.648220</td>\n",
       "      <td>78359</td>\n",
       "    </tr>\n",
       "    <tr>\n",
       "      <th>9</th>\n",
       "      <td>3.338041</td>\n",
       "      <td>0.634039</td>\n",
       "      <td>90501</td>\n",
       "    </tr>\n",
       "    <tr>\n",
       "      <th>10</th>\n",
       "      <td>3.339273</td>\n",
       "      <td>0.622016</td>\n",
       "      <td>101657</td>\n",
       "    </tr>\n",
       "    <tr>\n",
       "      <th>11</th>\n",
       "      <td>3.342759</td>\n",
       "      <td>0.607494</td>\n",
       "      <td>112665</td>\n",
       "    </tr>\n",
       "    <tr>\n",
       "      <th>12</th>\n",
       "      <td>3.344882</td>\n",
       "      <td>0.598519</td>\n",
       "      <td>123339</td>\n",
       "    </tr>\n",
       "    <tr>\n",
       "      <th>13</th>\n",
       "      <td>3.355017</td>\n",
       "      <td>0.588603</td>\n",
       "      <td>132908</td>\n",
       "    </tr>\n",
       "    <tr>\n",
       "      <th>14</th>\n",
       "      <td>3.360174</td>\n",
       "      <td>0.581993</td>\n",
       "      <td>141589</td>\n",
       "    </tr>\n",
       "    <tr>\n",
       "      <th>15</th>\n",
       "      <td>3.370331</td>\n",
       "      <td>0.573599</td>\n",
       "      <td>149764</td>\n",
       "    </tr>\n",
       "    <tr>\n",
       "      <th>16</th>\n",
       "      <td>3.376995</td>\n",
       "      <td>0.567533</td>\n",
       "      <td>157180</td>\n",
       "    </tr>\n",
       "    <tr>\n",
       "      <th>17</th>\n",
       "      <td>3.380658</td>\n",
       "      <td>0.562069</td>\n",
       "      <td>163298</td>\n",
       "    </tr>\n",
       "    <tr>\n",
       "      <th>18</th>\n",
       "      <td>3.388128</td>\n",
       "      <td>0.557448</td>\n",
       "      <td>168854</td>\n",
       "    </tr>\n",
       "    <tr>\n",
       "      <th>19</th>\n",
       "      <td>3.393706</td>\n",
       "      <td>0.554315</td>\n",
       "      <td>173169</td>\n",
       "    </tr>\n",
       "    <tr>\n",
       "      <th>20</th>\n",
       "      <td>3.398585</td>\n",
       "      <td>0.550704</td>\n",
       "      <td>175205</td>\n",
       "    </tr>\n",
       "    <tr>\n",
       "      <th>21</th>\n",
       "      <td>3.405989</td>\n",
       "      <td>0.549324</td>\n",
       "      <td>176865</td>\n",
       "    </tr>\n",
       "    <tr>\n",
       "      <th>22</th>\n",
       "      <td>3.412258</td>\n",
       "      <td>0.544837</td>\n",
       "      <td>178306</td>\n",
       "    </tr>\n",
       "    <tr>\n",
       "      <th>23</th>\n",
       "      <td>3.417897</td>\n",
       "      <td>0.543846</td>\n",
       "      <td>179011</td>\n",
       "    </tr>\n",
       "    <tr>\n",
       "      <th>24</th>\n",
       "      <td>3.422917</td>\n",
       "      <td>0.543779</td>\n",
       "      <td>179634</td>\n",
       "    </tr>\n",
       "    <tr>\n",
       "      <th>25</th>\n",
       "      <td>3.429371</td>\n",
       "      <td>0.541734</td>\n",
       "      <td>179037</td>\n",
       "    </tr>\n",
       "    <tr>\n",
       "      <th>26</th>\n",
       "      <td>3.435348</td>\n",
       "      <td>0.539186</td>\n",
       "      <td>178613</td>\n",
       "    </tr>\n",
       "    <tr>\n",
       "      <th>27</th>\n",
       "      <td>3.441194</td>\n",
       "      <td>0.539231</td>\n",
       "      <td>177573</td>\n",
       "    </tr>\n",
       "    <tr>\n",
       "      <th>28</th>\n",
       "      <td>3.447920</td>\n",
       "      <td>0.537311</td>\n",
       "      <td>177077</td>\n",
       "    </tr>\n",
       "    <tr>\n",
       "      <th>29</th>\n",
       "      <td>3.452235</td>\n",
       "      <td>0.535322</td>\n",
       "      <td>175764</td>\n",
       "    </tr>\n",
       "    <tr>\n",
       "      <th>30</th>\n",
       "      <td>3.564414</td>\n",
       "      <td>0.545367</td>\n",
       "      <td>5458031</td>\n",
       "    </tr>\n",
       "  </tbody>\n",
       "</table>\n",
       "</div>"
      ],
      "text/plain": [
       "        Prediction                   \n",
       "              mean       std    count\n",
       "cluster                              \n",
       "0         3.515818  0.454107     1098\n",
       "1         3.361470  1.026730     5013\n",
       "2         3.330478  0.909333    11231\n",
       "3         3.311658  0.858807    19659\n",
       "4         3.319098  0.796076    30236\n",
       "5         3.331213  0.747330    42179\n",
       "6         3.328514  0.709451    54368\n",
       "7         3.336120  0.677758    66256\n",
       "8         3.335003  0.648220    78359\n",
       "9         3.338041  0.634039    90501\n",
       "10        3.339273  0.622016   101657\n",
       "11        3.342759  0.607494   112665\n",
       "12        3.344882  0.598519   123339\n",
       "13        3.355017  0.588603   132908\n",
       "14        3.360174  0.581993   141589\n",
       "15        3.370331  0.573599   149764\n",
       "16        3.376995  0.567533   157180\n",
       "17        3.380658  0.562069   163298\n",
       "18        3.388128  0.557448   168854\n",
       "19        3.393706  0.554315   173169\n",
       "20        3.398585  0.550704   175205\n",
       "21        3.405989  0.549324   176865\n",
       "22        3.412258  0.544837   178306\n",
       "23        3.417897  0.543846   179011\n",
       "24        3.422917  0.543779   179634\n",
       "25        3.429371  0.541734   179037\n",
       "26        3.435348  0.539186   178613\n",
       "27        3.441194  0.539231   177573\n",
       "28        3.447920  0.537311   177077\n",
       "29        3.452235  0.535322   175764\n",
       "30        3.564414  0.545367  5458031"
      ]
     },
     "execution_count": 83,
     "metadata": {},
     "output_type": "execute_result"
    }
   ],
   "source": [
    "anti_pred_df.groupby('cluster').agg({'Prediction': ['mean', 'std', 'count']})"
   ]
  },
  {
   "attachments": {},
   "cell_type": "markdown",
   "metadata": {},
   "source": [
    "# BFM Baseline"
   ]
  },
  {
   "cell_type": "code",
   "execution_count": 169,
   "metadata": {},
   "outputs": [],
   "source": [
    "X_train_df = train_df[['row', 'col']]\n",
    "y_train = train_df['Prediction']\n",
    "\n",
    "ohe = OneHotEncoder(handle_unknown='ignore')\n",
    "X_train = ohe.fit_transform(X_train_df) # makes it into sparse matrix of number of ratings x (number of users + number of items)\n",
    "y_train = np.array(y_train)"
   ]
  },
  {
   "cell_type": "code",
   "execution_count": 170,
   "metadata": {},
   "outputs": [],
   "source": [
    "fm = MyFMOrderedProbit(rank=10, random_seed=42)"
   ]
  },
  {
   "cell_type": "code",
   "execution_count": 171,
   "metadata": {},
   "outputs": [
    {
     "name": "stderr",
     "output_type": "stream",
     "text": [
      "w0 = 0.12, cutpoint = ['-1.983', '-1.237', '-0.263', '0.613'] : 100%|██████████| 200/200 [02:34<00:00,  1.30it/s]\n"
     ]
    }
   ],
   "source": [
    "fm.fit(X_train, y_train-1, n_iter=200, n_kept_samples=200, group_shapes=[len(group) for group in ohe.categories_]);"
   ]
  },
  {
   "cell_type": "code",
   "execution_count": 8,
   "metadata": {},
   "outputs": [],
   "source": [
    "X_test_df = test_df[['row', 'col']]\n",
    "X_test = ohe.transform(X_test_df)\n",
    "y_test = np.array(test_df['Prediction'])"
   ]
  },
  {
   "cell_type": "code",
   "execution_count": 9,
   "metadata": {},
   "outputs": [],
   "source": [
    "y_pred = fm.predict_proba(X_test)"
   ]
  },
  {
   "cell_type": "code",
   "execution_count": 10,
   "metadata": {},
   "outputs": [],
   "source": [
    "expected_rating = y_pred.dot(np.arange(1, 6))"
   ]
  },
  {
   "cell_type": "code",
   "execution_count": 11,
   "metadata": {},
   "outputs": [
    {
     "name": "stdout",
     "output_type": "stream",
     "text": [
      "Method: MyFMOrderedProbit, RMSE: 0.9777, MAE: 0.7809\n"
     ]
    }
   ],
   "source": [
    "rmse_bfm = ((y_test - expected_rating) ** 2).mean() ** 0.5\n",
    "mae_bfm = np.abs(y_test - expected_rating).mean()\n",
    "print(f\"Method: {fm.__class__.__name__}, RMSE: {rmse_bfm:.4f}, MAE: {mae_bfm:.4f}\")"
   ]
  },
  {
   "attachments": {},
   "cell_type": "markdown",
   "metadata": {},
   "source": [
    "# SVD with BFM preprocessing"
   ]
  },
  {
   "attachments": {},
   "cell_type": "markdown",
   "metadata": {},
   "source": [
    "## Entropy method "
   ]
  },
  {
   "cell_type": "code",
   "execution_count": 178,
   "metadata": {},
   "outputs": [],
   "source": [
    "anti_train = generate_anti_train(train_matrix)"
   ]
  },
  {
   "cell_type": "code",
   "execution_count": 173,
   "metadata": {},
   "outputs": [],
   "source": [
    "y_pred_all = fm.predict_proba(ohe.transform(anti_train))\n",
    "expected_pred_all = y_pred_all.dot(np.arange(1, 6))"
   ]
  },
  {
   "cell_type": "code",
   "execution_count": 174,
   "metadata": {},
   "outputs": [],
   "source": [
    "anti_train['Prediction'] = expected_pred_all"
   ]
  },
  {
   "cell_type": "code",
   "execution_count": 15,
   "metadata": {},
   "outputs": [],
   "source": [
    "entr = entropy(y_pred_all, axis=1, base=2)"
   ]
  },
  {
   "cell_type": "code",
   "execution_count": 29,
   "metadata": {},
   "outputs": [],
   "source": [
    "entropy_threshold = 1.7"
   ]
  },
  {
   "cell_type": "code",
   "execution_count": 30,
   "metadata": {},
   "outputs": [
    {
     "name": "stdout",
     "output_type": "stream",
     "text": [
      "(871670, 3)\n",
      "0.09622739635383094\n"
     ]
    }
   ],
   "source": [
    "added_rows = anti_train[entr < entropy_threshold].reset_index(drop=True)\n",
    "print(added_rows.shape)\n",
    "print(len(added_rows) / len(anti_train))"
   ]
  },
  {
   "cell_type": "code",
   "execution_count": 31,
   "metadata": {},
   "outputs": [],
   "source": [
    "added_rows.loc[:, 'row'] = added_rows['row'] + 1\n",
    "added_rows.loc[:, 'col'] = added_rows['col'] + 1"
   ]
  },
  {
   "cell_type": "code",
   "execution_count": 32,
   "metadata": {},
   "outputs": [],
   "source": [
    "augmented_train_df = pd.concat([train_df, added_rows], ignore_index=True)"
   ]
  },
  {
   "cell_type": "code",
   "execution_count": 33,
   "metadata": {},
   "outputs": [],
   "source": [
    "augmented_train_matrix = convert_df_to_matrix(augmented_train_df, dtype=np.float32)\n",
    "augmented_train_matrix[augmented_train_matrix == 0] = np.nan\n",
    "A, mean, std = stand_norm(augmented_train_matrix)\n",
    "\n",
    "A = A.to_numpy()\n",
    "A[np.isnan(A)] = 0\n",
    "mask_A = A != 0"
   ]
  },
  {
   "cell_type": "code",
   "execution_count": 34,
   "metadata": {},
   "outputs": [
    {
     "name": "stdout",
     "output_type": "stream",
     "text": [
      "Initializing IterSVD\n",
      "IterSVD completelete\n",
      "Iteration 1\t\tError after solving for U matrix: 0.9477170220180094\t\tError after solving for V matrix: 0.915146899977284\n",
      "Iteration 2\t\tError after solving for U matrix: 0.9107019915705231\t\tError after solving for V matrix: 0.9050550898176405\n",
      "Iteration 3\t\tError after solving for U matrix: 0.9051103317464336\t\tError after solving for V matrix: 0.9023786785461159\n",
      "Iteration 4\t\tError after solving for U matrix: 0.9027488471909204\t\tError after solving for V matrix: 0.9011015262907152\n",
      "Iteration 5\t\tError after solving for U matrix: 0.9014798097558006\t\tError after solving for V matrix: 0.9003767370965421\n",
      "Iteration 6\t\tError after solving for U matrix: 0.900714979817647\t\tError after solving for V matrix: 0.899927404256596\n",
      "Iteration 7\t\tError after solving for U matrix: 0.9002210064150088\t\tError after solving for V matrix: 0.8996324597974176\n",
      "Iteration 8\t\tError after solving for U matrix: 0.8998857428435678\t\tError after solving for V matrix: 0.8994303440746255\n",
      "Iteration 9\t\tError after solving for U matrix: 0.8996491669031726\t\tError after solving for V matrix: 0.899286900788426\n",
      "Iteration 10\t\tError after solving for U matrix: 0.89947678348869\t\tError after solving for V matrix: 0.899182016607467\n",
      "Time: 256.37\n"
     ]
    }
   ],
   "source": [
    "als = ALS()\n",
    "start = time()\n",
    "U, V = als.ALS(A, mask_A, k=3, shrinkage=30, lambd=0.5, n_iter_svd=3, n_iter_als=10)\n",
    "end = time(); print(f\"Time: {end - start:.2f}\")"
   ]
  },
  {
   "cell_type": "code",
   "execution_count": 35,
   "metadata": {},
   "outputs": [],
   "source": [
    "predictions = als.predict(U, V, mean, std)"
   ]
  },
  {
   "cell_type": "code",
   "execution_count": 36,
   "metadata": {},
   "outputs": [],
   "source": [
    "row_ids = test_df.row.to_numpy() - 1\n",
    "col_ids = test_df.col.to_numpy() - 1\n",
    "test_preds = np.clip(predictions[row_ids, col_ids], 1, 5)"
   ]
  },
  {
   "cell_type": "code",
   "execution_count": 37,
   "metadata": {},
   "outputs": [
    {
     "name": "stdout",
     "output_type": "stream",
     "text": [
      "Method: ALS+BFM Preprocessing; Entr < 1.7, RMSE: 1.0089, MAE: 0.8061\n"
     ]
    }
   ],
   "source": [
    "rmse_svd = ((test_df.Prediction - test_preds) ** 2).mean() ** 0.5\n",
    "mae_svd = np.abs(test_df.Prediction - test_preds).mean()\n",
    "print(f\"Method: ALS+BFM Preprocessing; Entr < {entropy_threshold}, RMSE: {rmse_svd:.4f}, MAE: {mae_svd:.4f}\")"
   ]
  },
  {
   "attachments": {},
   "cell_type": "markdown",
   "metadata": {},
   "source": [
    "## Random sampling"
   ]
  },
  {
   "cell_type": "code",
   "execution_count": 68,
   "metadata": {},
   "outputs": [
    {
     "name": "stdout",
     "output_type": "stream",
     "text": [
      "(905844, 3)\n",
      "0.10000001103942964\n"
     ]
    }
   ],
   "source": [
    "added_rows = anti_train.sample(frac=0.1, random_state=42).reset_index(drop=True)\n",
    "print(added_rows.shape)\n",
    "print(len(added_rows) / len(anti_train))"
   ]
  },
  {
   "cell_type": "code",
   "execution_count": 69,
   "metadata": {},
   "outputs": [],
   "source": [
    "added_rows.loc[:, 'row'] = added_rows['row'] + 1\n",
    "added_rows.loc[:, 'col'] = added_rows['col'] + 1"
   ]
  },
  {
   "cell_type": "code",
   "execution_count": 70,
   "metadata": {},
   "outputs": [],
   "source": [
    "augmented_train_df = pd.concat([train_df, added_rows], ignore_index=True)"
   ]
  },
  {
   "cell_type": "code",
   "execution_count": 71,
   "metadata": {},
   "outputs": [],
   "source": [
    "augmented_train_matrix = convert_df_to_matrix(augmented_train_df)\n",
    "augmented_train_matrix[augmented_train_matrix == 0] = np.nan"
   ]
  },
  {
   "cell_type": "code",
   "execution_count": 72,
   "metadata": {},
   "outputs": [],
   "source": [
    "A, mean, std = stand_norm(augmented_train_matrix)\n",
    "A = A.to_numpy()\n",
    "A[np.isnan(A)] = 0\n",
    "mask_A = A != 0"
   ]
  },
  {
   "cell_type": "code",
   "execution_count": 75,
   "metadata": {},
   "outputs": [
    {
     "name": "stdout",
     "output_type": "stream",
     "text": [
      "Time: 31.53ion is complete.\n",
      "Initializing ALS\n",
      "Starting Iterations\n",
      "Iteration 1\t\tError after solving for U matrix: 0.8899449204652643\t\tError after solving for V matrix: 0.8768817525344185\n",
      "Iteration 2\t\tError after solving for U matrix: 0.8794674975369896\t\tError after solving for V matrix: 0.8753108805735161\n",
      "Iteration 3\t\tError after solving for U matrix: 0.8770897898305511\t\tError after solving for V matrix: 0.8749331420021028\n",
      "Iteration 4\t\tError after solving for U matrix: 0.8761122006247207\t\tError after solving for V matrix: 0.8747793106676313\n",
      "Iteration 5\t\tError after solving for U matrix: 0.8756096185743857\t\tError after solving for V matrix: 0.8747011552906525\n",
      "Iteration 6\t\tError after solving for U matrix: 0.875315851145951\t\tError after solving for V matrix: 0.8746559279148564\n",
      "Iteration 7\t\tError after solving for U matrix: 0.8751289026135464\t\tError after solving for V matrix: 0.8746273863611708\n",
      "Iteration 8\t\tError after solving for U matrix: 0.8750024441485843\t\tError after solving for V matrix: 0.8746082153483804\n",
      "Iteration 9\t\tError after solving for U matrix: 0.8749128605566332\t\tError after solving for V matrix: 0.874594714539925\n",
      "Iteration 10\t\tError after solving for U matrix: 0.8748470562219698\t\tError after solving for V matrix: 0.8745848462940498\n",
      "Time: 358.84\n"
     ]
    }
   ],
   "source": [
    "bsl = Baseline()\n",
    "start = time()\n",
    "X = bsl.IterSVD(A, mask_A, shrinkage=38, n_itr=15)\n",
    "end = time(); print(f\"Time: {end - start:.2f}\"); start = time()\n",
    "U, V = bsl.ALS(X, mask_A, k=3, n_itr=10, lambda_=0.1)\n",
    "end = time(); print(f\"Time: {end - start:.2f}\")"
   ]
  },
  {
   "cell_type": "code",
   "execution_count": 78,
   "metadata": {},
   "outputs": [],
   "source": [
    "predictions = bsl.predict(U, V, mean, std)"
   ]
  },
  {
   "cell_type": "code",
   "execution_count": 105,
   "metadata": {},
   "outputs": [],
   "source": [
    "row_ids = test_df.row.to_numpy() - 1\n",
    "col_ids = test_df.col.to_numpy() - 1\n",
    "test_preds = np.clip(predictions[row_ids, col_ids], 1, 5)"
   ]
  },
  {
   "cell_type": "code",
   "execution_count": 106,
   "metadata": {},
   "outputs": [
    {
     "name": "stdout",
     "output_type": "stream",
     "text": [
      "Method: SVD+BFM Preprocessing; Random 10%, RMSE: 1.0388, MAE: 0.8533\n"
     ]
    }
   ],
   "source": [
    "rmse_svd = ((test_df.Prediction - test_preds) ** 2).mean() ** 0.5\n",
    "mae_svd = np.abs(test_df.Prediction - test_preds).mean()\n",
    "print(f\"Method: SVD+BFM Preprocessing; Random 10%, RMSE: {rmse_svd:.4f}, MAE: {mae_svd:.4f}\")"
   ]
  },
  {
   "cell_type": "markdown",
   "metadata": {},
   "source": [
    "# SVD with KNN preprocessing"
   ]
  },
  {
   "cell_type": "code",
   "execution_count": 427,
   "metadata": {},
   "outputs": [
    {
     "name": "stdout",
     "output_type": "stream",
     "text": [
      "(452922, 4)\n",
      "0.05000000551971482\n"
     ]
    }
   ],
   "source": [
    "added_rows = anti_pred_df.sample(frac=0.05, random_state=42).reset_index(drop=True)\n",
    "print(added_rows.shape)\n",
    "print(len(added_rows) / len(anti_pred_df))"
   ]
  },
  {
   "cell_type": "code",
   "execution_count": 428,
   "metadata": {},
   "outputs": [],
   "source": [
    "augmented_train_df = pd.concat([train_df, added_rows], ignore_index=True)"
   ]
  },
  {
   "cell_type": "code",
   "execution_count": 429,
   "metadata": {},
   "outputs": [],
   "source": [
    "augmented_train_matrix = convert_df_to_matrix(augmented_train_df, dtype=np.float32)\n",
    "augmented_train_matrix[augmented_train_matrix == 0] = np.nan\n",
    "A, mean, std = stand_norm(augmented_train_matrix)\n",
    "\n",
    "A = A.to_numpy()\n",
    "A[np.isnan(A)] = 0\n",
    "mask_A = A != 0"
   ]
  },
  {
   "cell_type": "code",
   "execution_count": 430,
   "metadata": {},
   "outputs": [
    {
     "name": "stdout",
     "output_type": "stream",
     "text": [
      "Initializing IterSVD\n",
      "IterSVD completelete\n",
      "Iteration 1\t\tError after solving for U matrix: 0.9235166366316405\t\tError after solving for V matrix: 0.8502625166459541\n",
      "Iteration 2\t\tError after solving for U matrix: 0.8403098137445921\t\tError after solving for V matrix: 0.8327898224646697\n",
      "Iteration 3\t\tError after solving for U matrix: 0.8351599660949613\t\tError after solving for V matrix: 0.8316231714549407\n",
      "Iteration 4\t\tError after solving for U matrix: 0.8333261323372174\t\tError after solving for V matrix: 0.8312249055743239\n",
      "Iteration 5\t\tError after solving for U matrix: 0.8324353900334389\t\tError after solving for V matrix: 0.8310365741281894\n",
      "Iteration 6\t\tError after solving for U matrix: 0.8319316191018463\t\tError after solving for V matrix: 0.8309318758278158\n",
      "Iteration 7\t\tError after solving for U matrix: 0.8316168070890789\t\tError after solving for V matrix: 0.8308671565017286\n",
      "Iteration 8\t\tError after solving for U matrix: 0.8314086654337127\t\tError after solving for V matrix: 0.8308241298029448\n",
      "Iteration 9\t\tError after solving for U matrix: 0.831262464296804\t\tError after solving for V matrix: 0.8307943696696195\n",
      "Iteration 10\t\tError after solving for U matrix: 0.8311567799679164\t\tError after solving for V matrix: 0.8307732148760508\n",
      "Time: 208.81\n"
     ]
    }
   ],
   "source": [
    "als = ALS()\n",
    "start = time()\n",
    "U, V = als.ALS(A, mask_A, k=3, shrinkage=30, lambd=0.5, n_iter_svd=3, n_iter_als=10)\n",
    "end = time(); print(f\"Time: {end - start:.2f}\")"
   ]
  },
  {
   "cell_type": "code",
   "execution_count": 431,
   "metadata": {},
   "outputs": [],
   "source": [
    "predictions = als.predict(U, V, mean, std)"
   ]
  },
  {
   "cell_type": "code",
   "execution_count": 432,
   "metadata": {},
   "outputs": [],
   "source": [
    "row_ids = test_df.row.to_numpy() - 1\n",
    "col_ids = test_df.col.to_numpy() - 1\n",
    "test_preds = np.clip(predictions[row_ids, col_ids], 1, 5)"
   ]
  },
  {
   "cell_type": "code",
   "execution_count": 433,
   "metadata": {},
   "outputs": [
    {
     "name": "stdout",
     "output_type": "stream",
     "text": [
      "Method: ALS+KNN Preprocessing; Random Sampling 5%, RMSE: 0.9881, MAE: 0.7867\n"
     ]
    }
   ],
   "source": [
    "rmse_svd = ((test_df.Prediction - test_preds) ** 2).mean() ** 0.5\n",
    "mae_svd = np.abs(test_df.Prediction - test_preds).mean()\n",
    "print(f\"Method: ALS+KNN Preprocessing; Random Sampling 5%, RMSE: {rmse_svd:.4f}, MAE: {mae_svd:.4f}\")"
   ]
  },
  {
   "cell_type": "markdown",
   "metadata": {},
   "source": [
    "# BFM with KNN preprocessing"
   ]
  },
  {
   "cell_type": "code",
   "execution_count": 150,
   "metadata": {},
   "outputs": [
    {
     "name": "stdout",
     "output_type": "stream",
     "text": [
      "(2498900, 4)\n",
      "0.2758643073050445\n"
     ]
    }
   ],
   "source": [
    "n_clusters = anti_pred_df.cluster.nunique()\n",
    "n_sample = 100000\n",
    "added_rows = []\n",
    "\n",
    "for i in range(n_clusters):\n",
    "    cluster_filtered = anti_pred_df[anti_pred_df.cluster == i]\n",
    "    if len(cluster_filtered) < n_sample:\n",
    "        added_rows.append(cluster_filtered)\n",
    "    else:\n",
    "        added_rows.append(anti_pred_df[anti_pred_df.cluster == i].sample(n=n_sample, random_state=42))\n",
    "added_rows = pd.concat(added_rows, ignore_index=True)\n",
    "print(added_rows.shape)\n",
    "print(len(added_rows) / len(anti_pred_df))"
   ]
  },
  {
   "cell_type": "code",
   "execution_count": 159,
   "metadata": {},
   "outputs": [
    {
     "name": "stdout",
     "output_type": "stream",
     "text": [
      "(1811688, 4)\n",
      "0.20000002207885928\n"
     ]
    }
   ],
   "source": [
    "added_rows = anti_pred_df.sample(frac=0.2, random_state=42).reset_index(drop=True)\n",
    "print(added_rows.shape)\n",
    "print(len(added_rows) / len(anti_pred_df))"
   ]
  },
  {
   "cell_type": "code",
   "execution_count": 160,
   "metadata": {},
   "outputs": [],
   "source": [
    "augmented_train_df = pd.concat([train_df, added_rows], ignore_index=True)"
   ]
  },
  {
   "cell_type": "code",
   "execution_count": 161,
   "metadata": {},
   "outputs": [],
   "source": [
    "X_train_df = augmented_train_df[['row', 'col']]\n",
    "y_train = augmented_train_df['Prediction']\n",
    "\n",
    "ohe = OneHotEncoder(handle_unknown='ignore')\n",
    "X_train = ohe.fit_transform(X_train_df) # makes it into sparse matrix of number of ratings x (number of users + number of items)\n",
    "y_train = np.array(y_train)"
   ]
  },
  {
   "cell_type": "code",
   "execution_count": 162,
   "metadata": {},
   "outputs": [],
   "source": [
    "fm = MyFMRegressor(rank=10, random_seed=42)"
   ]
  },
  {
   "cell_type": "code",
   "execution_count": 163,
   "metadata": {},
   "outputs": [
    {
     "name": "stderr",
     "output_type": "stream",
     "text": [
      "  0%|          | 0/200 [00:00<?, ?it/s]"
     ]
    },
    {
     "name": "stderr",
     "output_type": "stream",
     "text": [
      "alpha = 3.04 w0 = 3.61 : 100%|██████████| 200/200 [07:32<00:00,  2.26s/it]\n"
     ]
    }
   ],
   "source": [
    "fm.fit(X_train, y_train, n_iter=200, n_kept_samples=200, group_shapes=[len(group) for group in ohe.categories_]);"
   ]
  },
  {
   "cell_type": "code",
   "execution_count": 164,
   "metadata": {},
   "outputs": [],
   "source": [
    "X_test_df = test_df[['row', 'col']]\n",
    "X_test = ohe.transform(X_test_df)\n",
    "y_test = np.array(test_df['Prediction'])"
   ]
  },
  {
   "cell_type": "code",
   "execution_count": 165,
   "metadata": {},
   "outputs": [],
   "source": [
    "y_pred = fm.predict(X_test)\n",
    "expected_rating = np.clip(y_pred, 1, 5)"
   ]
  },
  {
   "cell_type": "code",
   "execution_count": 166,
   "metadata": {},
   "outputs": [
    {
     "name": "stdout",
     "output_type": "stream",
     "text": [
      "BFM + KNN Preprocessing Random 20%, RMSE: 0.9823, MAE: 0.7813\n"
     ]
    }
   ],
   "source": [
    "rmse_bfm = ((y_test - expected_rating) ** 2).mean() ** 0.5\n",
    "mae_bfm = np.abs(y_test - expected_rating).mean()\n",
    "# print(f\"BFM + KNN Preprocessing ({n_sample} per cluster), RMSE: {rmse_bfm:.4f}, MAE: {mae_bfm:.4f}\")\n",
    "print(f\"BFM + KNN Preprocessing Random 20%, RMSE: {rmse_bfm:.4f}, MAE: {mae_bfm:.4f}\")"
   ]
  },
  {
   "cell_type": "code",
   "execution_count": null,
   "metadata": {},
   "outputs": [],
   "source": []
  },
  {
   "cell_type": "markdown",
   "metadata": {},
   "source": [
    "# KNN with BFM preprocessing"
   ]
  },
  {
   "cell_type": "code",
   "execution_count": 188,
   "metadata": {},
   "outputs": [],
   "source": [
    "anti_train[\"Prediction_class\"] = y_pred_all.argmax(axis=1)\n",
    "anti_train[\"Prediction\"] = expected_pred_all"
   ]
  },
  {
   "cell_type": "code",
   "execution_count": 279,
   "metadata": {},
   "outputs": [],
   "source": [
    "entr = entropy(y_pred_all, axis=1, base=2)"
   ]
  },
  {
   "cell_type": "code",
   "execution_count": 320,
   "metadata": {},
   "outputs": [],
   "source": [
    "entropy_threshold = 3."
   ]
  },
  {
   "cell_type": "code",
   "execution_count": 321,
   "metadata": {},
   "outputs": [
    {
     "name": "stdout",
     "output_type": "stream",
     "text": [
      "(9058439, 4)\n",
      "1.0\n"
     ]
    }
   ],
   "source": [
    "added_rows = anti_train[entr < entropy_threshold].reset_index(drop=True)\n",
    "print(added_rows.shape)\n",
    "print(len(added_rows) / len(anti_train))"
   ]
  },
  {
   "cell_type": "code",
   "execution_count": 322,
   "metadata": {},
   "outputs": [
    {
     "name": "stdout",
     "output_type": "stream",
     "text": [
      "Estimating biases using als...\n",
      "Computing the pearson_baseline similarity matrix...\n",
      "Done computing similarity matrix.\n",
      "Method: KNNBaseline, RMSE: 0.9958, MAE: 0.8015, Time: 39.02\n",
      "Estimating biases using als...\n",
      "Computing the pearson_baseline similarity matrix...\n",
      "Done computing similarity matrix.\n",
      "Method: KNNBaseline, RMSE: 0.9960, MAE: 0.8018, Time: 36.46\n",
      "Estimating biases using als...\n",
      "Computing the pearson_baseline similarity matrix...\n",
      "Done computing similarity matrix.\n",
      "Method: KNNBaseline, RMSE: 0.9959, MAE: 0.8016, Time: 40.36\n",
      "Estimating biases using als...\n",
      "Computing the pearson_baseline similarity matrix...\n",
      "Done computing similarity matrix.\n",
      "Method: KNNBaseline, RMSE: 0.9958, MAE: 0.8016, Time: 37.16\n",
      "Estimating biases using als...\n",
      "Computing the pearson_baseline similarity matrix...\n",
      "Done computing similarity matrix.\n",
      "Method: KNNBaseline, RMSE: 0.9960, MAE: 0.8018, Time: 37.43\n",
      "Estimating biases using als...\n",
      "Computing the pearson_baseline similarity matrix...\n",
      "Done computing similarity matrix.\n",
      "Method: KNNBaseline, RMSE: 0.9958, MAE: 0.8016, Time: 37.88\n",
      "Estimating biases using als...\n",
      "Computing the pearson_baseline similarity matrix...\n",
      "Done computing similarity matrix.\n",
      "Method: KNNBaseline, RMSE: 0.9960, MAE: 0.8018, Time: 38.31\n"
     ]
    }
   ],
   "source": [
    "pred_df = pd.DataFrame(testset, columns=['row', 'col', 'actual'])\n",
    "\n",
    "for seed in [21, 42, 69, 88, 420, 666, 888]:\n",
    "    filtered_rows = anti_train[entr < entropy_threshold].reset_index(drop=True)\n",
    "    added_rows = filtered_rows.sample(frac=0.03, random_state=seed).reset_index(drop=True)\n",
    "    added_rows.loc[:, 'row'] = added_rows['row'] + 1\n",
    "    added_rows.loc[:, 'col'] = added_rows['col'] + 1\n",
    "\n",
    "    augmented_train_df = pd.concat([train_df, added_rows.drop('Prediction_class', axis=1)], ignore_index=True)\n",
    "\n",
    "    reader = Reader(rating_scale=(1, 5))\n",
    "    augmented_train_data = Dataset.load_from_df(augmented_train_df, reader)\n",
    "    augmented_trainset = augmented_train_data.build_full_trainset()\n",
    "\n",
    "    start = time()\n",
    "    knn = KNNBaseline(k=40, sim_options={'name': 'pearson_baseline', 'user_based': False, 'shrinkage': 200})\n",
    "    knn.fit(augmented_trainset)\n",
    "    predictions = knn.test(testset)\n",
    "    print(f\"Method: {knn.__class__.__name__}, RMSE: {acc.rmse(predictions, False):.4f}, MAE: {acc.mae(predictions, False):.4f}, Time: {time() - start:.2f}\")\n",
    "\n",
    "    pred_df[f\"Prediction_{seed}\"] = [pred.est for pred in predictions]    "
   ]
  },
  {
   "cell_type": "code",
   "execution_count": 323,
   "metadata": {},
   "outputs": [],
   "source": [
    "pred_df['Prediction_avg'] = pred_df.iloc[:, 3:].mean(axis=1)"
   ]
  },
  {
   "cell_type": "code",
   "execution_count": 324,
   "metadata": {},
   "outputs": [
    {
     "name": "stdout",
     "output_type": "stream",
     "text": [
      "Method: Ensembled KNN+BFM 3% k=40, RMSE: 0.9934, MAE: 0.8002\n"
     ]
    }
   ],
   "source": [
    "rmse = ((pred_df.actual - pred_df.Prediction_avg) ** 2).mean() ** 0.5\n",
    "mae = np.abs(pred_df.actual - pred_df.Prediction_avg).mean()\n",
    "print(f\"Method: Ensembled KNN+BFM 3% k=40, RMSE: {rmse:.4f}, MAE: {mae:.4f}\")"
   ]
  },
  {
   "cell_type": "markdown",
   "metadata": {},
   "source": [
    "## ALS"
   ]
  },
  {
   "cell_type": "code",
   "execution_count": 420,
   "metadata": {},
   "outputs": [
    {
     "name": "stdout",
     "output_type": "stream",
     "text": [
      "Initializing IterSVD\n",
      "IterSVD completelete\n",
      "Iteration 1\t\tError after solving for U matrix: 0.942574587101597\t\tError after solving for V matrix: 0.8935412791258315\n",
      "Iteration 2\t\tError after solving for U matrix: 0.887345742607225\t\tError after solving for V matrix: 0.8814725672600557\n",
      "Iteration 3\t\tError after solving for U matrix: 0.8828212505759025\t\tError after solving for V matrix: 0.8800947282358303\n",
      "Iteration 4\t\tError after solving for U matrix: 0.8812152140461694\t\tError after solving for V matrix: 0.8796186556972521\n",
      "Iteration 5\t\tError after solving for U matrix: 0.8804542809645985\t\tError after solving for V matrix: 0.8793987000881058\n",
      "Iteration 6\t\tError after solving for U matrix: 0.8800282779464161\t\tError after solving for V matrix: 0.8792775442115925\n",
      "Iteration 7\t\tError after solving for U matrix: 0.8797670098317582\t\tError after solving for V matrix: 0.8792028520258169\n",
      "Iteration 8\t\tError after solving for U matrix: 0.8795922816288955\t\tError after solving for V matrix: 0.8791540187898753\n",
      "Iteration 9\t\tError after solving for U matrix: 0.8794696834205189\t\tError after solving for V matrix: 0.8791200209673844\n",
      "Iteration 10\t\tError after solving for U matrix: 0.8793813921057468\t\tError after solving for V matrix: 0.8790946771360729\n",
      "Time: 231.84\n",
      "RMSE: 0.9945, MAE: 0.7972\n",
      "Initializing IterSVD\n",
      "IterSVD completelete\n",
      "Iteration 1\t\tError after solving for U matrix: 0.9426536535472269\t\tError after solving for V matrix: 0.8937377298869048\n",
      "Iteration 2\t\tError after solving for U matrix: 0.8876117394178259\t\tError after solving for V matrix: 0.8817577313045099\n",
      "Iteration 3\t\tError after solving for U matrix: 0.8831016744222847\t\tError after solving for V matrix: 0.8803834992425703\n",
      "Iteration 4\t\tError after solving for U matrix: 0.8814997601610135\t\tError after solving for V matrix: 0.879907633143605\n",
      "Iteration 5\t\tError after solving for U matrix: 0.8807396518955521\t\tError after solving for V matrix: 0.8796875746921242\n",
      "Iteration 6\t\tError after solving for U matrix: 0.8803165338898257\t\tError after solving for V matrix: 0.8795670370571839\n",
      "Iteration 7\t\tError after solving for U matrix: 0.880054750872404\t\tError after solving for V matrix: 0.879492550980208\n",
      "Iteration 8\t\tError after solving for U matrix: 0.879879610719072\t\tError after solving for V matrix: 0.8794426875483181\n",
      "Iteration 9\t\tError after solving for U matrix: 0.8797585579660335\t\tError after solving for V matrix: 0.879409410919185\n",
      "Iteration 10\t\tError after solving for U matrix: 0.8796701637004106\t\tError after solving for V matrix: 0.8793837580379028\n",
      "Time: 245.25\n",
      "RMSE: 0.9946, MAE: 0.7972\n",
      "Initializing IterSVD\n",
      "IterSVD completelete\n",
      "Iteration 1\t\tError after solving for U matrix: 0.9425374985679705\t\tError after solving for V matrix: 0.8934736955756676\n",
      "Iteration 2\t\tError after solving for U matrix: 0.8872845465267413\t\tError after solving for V matrix: 0.8814095167528906\n",
      "Iteration 3\t\tError after solving for U matrix: 0.8827605696139413\t\tError after solving for V matrix: 0.8800361077479595\n",
      "Iteration 4\t\tError after solving for U matrix: 0.8811596842694341\t\tError after solving for V matrix: 0.879563950110153\n",
      "Iteration 5\t\tError after solving for U matrix: 0.8804009146856582\t\tError after solving for V matrix: 0.8793458489276881\n",
      "Iteration 6\t\tError after solving for U matrix: 0.8799775902837932\t\tError after solving for V matrix: 0.8792254142171064\n",
      "Iteration 7\t\tError after solving for U matrix: 0.8797158070506127\t\tError after solving for V matrix: 0.8791527825054211\n",
      "Iteration 8\t\tError after solving for U matrix: 0.8795408728003409\t\tError after solving for V matrix: 0.8791034341509569\n",
      "Iteration 9\t\tError after solving for U matrix: 0.8794205411134637\t\tError after solving for V matrix: 0.8790695393521705\n",
      "Iteration 10\t\tError after solving for U matrix: 0.8793318377038736\t\tError after solving for V matrix: 0.8790451227341997\n",
      "Time: 243.76\n",
      "RMSE: 0.9946, MAE: 0.7971\n"
     ]
    }
   ],
   "source": [
    "pred_df = test_df\n",
    "\n",
    "for seed in [21, 42, 69]: # , 88, 420, 666, 888]:\n",
    "    filtered_rows = anti_train[entr < entropy_threshold].reset_index(drop=True)\n",
    "    added_rows = filtered_rows.sample(frac=0.03, random_state=seed).reset_index(drop=True)\n",
    "    added_rows.loc[:, 'row'] = added_rows['row'] + 1\n",
    "    added_rows.loc[:, 'col'] = added_rows['col'] + 1\n",
    "\n",
    "    augmented_train_df = pd.concat([train_df, added_rows.drop('Prediction_class', axis=1)], ignore_index=True)\n",
    "\n",
    "    augmented_train_matrix = convert_df_to_matrix(augmented_train_df, dtype=np.float32)\n",
    "    augmented_train_matrix[augmented_train_matrix == 0] = np.nan\n",
    "    A, mean, std = stand_norm(augmented_train_matrix)\n",
    "\n",
    "    A = A.to_numpy()\n",
    "    A[np.isnan(A)] = 0\n",
    "    mask_A = A != 0\n",
    "\n",
    "    als = ALS()\n",
    "    start = time()\n",
    "    U, V = als.ALS(A, mask_A, k=3, shrinkage=30, lambd=0.5, n_iter_svd=3, n_iter_als=10)\n",
    "    end = time(); print(f\"Time: {end - start:.2f}\")\n",
    "\n",
    "    predictions = als.predict(U, V, mean, std)\n",
    "    row_ids = test_df.row.to_numpy() - 1\n",
    "    col_ids = test_df.col.to_numpy() - 1\n",
    "    test_preds = np.clip(predictions[row_ids, col_ids], 1, 5)\n",
    "\n",
    "    rmse = ((test_df.Prediction - test_preds) ** 2).mean() ** 0.5\n",
    "    mae = np.abs(test_df.Prediction - test_preds).mean()\n",
    "    print(f\"RMSE: {rmse:.4f}, MAE: {mae:.4f}\")\n",
    "    \n",
    "    pred_df[f\"Prediction_{seed}\"] = test_preds"
   ]
  },
  {
   "cell_type": "code",
   "execution_count": 421,
   "metadata": {},
   "outputs": [],
   "source": [
    "pred_df['Prediction_avg'] = pred_df.iloc[:, 3:].mean(axis=1)"
   ]
  },
  {
   "cell_type": "code",
   "execution_count": 422,
   "metadata": {},
   "outputs": [
    {
     "name": "stdout",
     "output_type": "stream",
     "text": [
      "Method: Ensembled ALS+BFM 3%, RMSE: 0.9939, MAE: 0.7968\n"
     ]
    }
   ],
   "source": [
    "rmse = ((pred_df.Prediction - pred_df.Prediction_avg) ** 2).mean() ** 0.5\n",
    "mae = np.abs(pred_df.Prediction - pred_df.Prediction_avg).mean()\n",
    "print(f\"Method: Ensembled ALS+BFM 3%, RMSE: {rmse:.4f}, MAE: {mae:.4f}\")"
   ]
  },
  {
   "cell_type": "code",
   "execution_count": 423,
   "metadata": {},
   "outputs": [
    {
     "data": {
      "text/plain": [
       "<Axes: >"
      ]
     },
     "execution_count": 423,
     "metadata": {},
     "output_type": "execute_result"
    },
    {
     "data": {
      "image/png": "[encoded data removed]",
      "text/plain": [
       "<Figure size 640x480 with 1 Axes>"
      ]
     },
     "metadata": {},
     "output_type": "display_data"
    }
   ],
   "source": [
    "pred_df.Prediction_avg.hist()"
   ]
  }
 ],
 "metadata": {
  "kernelspec": {
   "display_name": "cil",
   "language": "python",
   "name": "python3"
  },
  "language_info": {
   "codemirror_mode": {
    "name": "ipython",
    "version": 3
   },
   "file_extension": ".py",
   "mimetype": "text/x-python",
   "name": "python",
   "nbconvert_exporter": "python",
   "pygments_lexer": "ipython3",
   "version": "3.10.9"
  },
  "orig_nbformat": 4
 },
 "nbformat": 4,
 "nbformat_minor": 2
}
